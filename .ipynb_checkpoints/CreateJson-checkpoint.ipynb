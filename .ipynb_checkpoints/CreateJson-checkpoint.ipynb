{
 "cells": [
  {
   "cell_type": "code",
   "execution_count": 10,
   "id": "f95bf5a3",
   "metadata": {},
   "outputs": [
    {
     "name": "stdout",
     "output_type": "stream",
     "text": [
      "Overwriting myfile.json\n"
     ]
    }
   ],
   "source": [
    "%%writefile myfile.json\n",
    "{\n",
    "    \"Jill\": {\n",
    "        \"age\": 26,\n",
    "        \"job\": \"biologist\",\n",
    "        \"relations\": {\n",
    "            \"Zalika\": \"friend\",\n",
    "            \"John\": \"partner\"\n",
    "        }\n",
    "    },\n",
    "    \"Zalika\": {\n",
    "        \"age\": 28,\n",
    "        \"job\": \"artist\",\n",
    "        \"relations\": {\n",
    "            \"Jill\": \"friend\"\n",
    "        }\n",
    "    },\n",
    "    \"John\": {\n",
    "        \"age\": 27,\n",
    "        \"job\": \"writer\",\n",
    "        \"relations\": {\n",
    "            \"Jill\": \"partner\"\n",
    "        }\n",
    "    },\n",
    "    \"Nash\": {\n",
    "        \"age\": 34,\n",
    "        \"job\": \"chef\",\n",
    "        \"relations\": {\n",
    "            \"John\": \"cousin\",\n",
    "            \"Zalika\": \"landlord\"\n",
    "        }\n",
    "    }\n",
    "}"
   ]
  },
  {
   "cell_type": "code",
   "execution_count": 11,
   "id": "747cda7a",
   "metadata": {},
   "outputs": [
    {
     "data": {
      "text/plain": [
       "'{\\n    \"Jill\": {\\n        \"age\": 26,\\n        \"job\": \"biologist\",\\n        \"relations\": {\\n            \"Zalika\": \"friend\",\\n            \"John\": \"partner\"\\n        }\\n    },\\n    \"Zalika\": {\\n        \"age\": 28,\\n        \"job\": \"artist\",\\n        \"relations\": {\\n            \"Jill\": \"friend\"\\n        }\\n    },\\n    \"John\": {\\n        \"age\": 27,\\n        \"job\": \"writer\",\\n        \"relations\": {\\n            \"Jill\": \"partner\"\\n        }\\n    },\\n    \"Nash\": {\\n        \"age\": 34,\\n        \"job\": \"chef\",\\n        \"relations\": {\\n            \"John\": \"cousin\",\\n            \"Zalika\": \"landlord\"\\n        }\\n    }\\n}\\n'"
      ]
     },
     "execution_count": 11,
     "metadata": {},
     "output_type": "execute_result"
    }
   ],
   "source": [
    "with open('myfile.json','r') as json_file:\n",
    "    my_data_as_string=json_file.read()\n",
    "my_data_as_string\n"
   ]
  },
  {
   "cell_type": "code",
   "execution_count": 14,
   "id": "4353e02c",
   "metadata": {},
   "outputs": [
    {
     "data": {
      "text/plain": [
       "{'age': 28, 'job': 'artist', 'relations': {'Jill': 'friend'}}"
      ]
     },
     "execution_count": 14,
     "metadata": {},
     "output_type": "execute_result"
    }
   ],
   "source": [
    "import json\n",
    "mydata=json.loads(my_data_as_string)\n",
    "mydata['Zalika']"
   ]
  },
  {
   "cell_type": "code",
   "execution_count": 16,
   "id": "d67c54d8",
   "metadata": {},
   "outputs": [
    {
     "name": "stdout",
     "output_type": "stream",
     "text": [
      "Writing myfile.yaml\n"
     ]
    }
   ],
   "source": [
    "%%writefile myfile.yaml\n",
    "{\n",
    "    \"Jill\": {\n",
    "        \"age\": 26,\n",
    "        \"job\": \"biologist\",\n",
    "        \"relations\": {\n",
    "            \"Zalika\": \"friend\",\n",
    "            \"John\": \"partner\"\n",
    "        }\n",
    "    },\n",
    "    \"Zalika\": {\n",
    "        \"age\": 28,\n",
    "        \"job\": \"artist\",\n",
    "        \"relations\": {\n",
    "            \"Jill\": \"friend\"\n",
    "        }\n",
    "    },\n",
    "    \"John\": {\n",
    "        \"age\": 27,\n",
    "        \"job\": \"writer\",\n",
    "        \"relations\": {\n",
    "            \"Jill\": \"partner\"\n",
    "        }\n",
    "    },\n",
    "    \"Nash\": {\n",
    "        \"age\": 34,\n",
    "        \"job\": \"chef\",\n",
    "        \"relations\": {\n",
    "            \"John\": \"cousin\",\n",
    "            \"Zalika\": \"landlord\"\n",
    "        }\n",
    "    }\n",
    "}"
   ]
  },
  {
   "cell_type": "code",
   "execution_count": 18,
   "id": "2e539e7d",
   "metadata": {},
   "outputs": [
    {
     "name": "stdout",
     "output_type": "stream",
     "text": [
      "{'Jill': {'age': 26, 'job': 'biologist', 'relations': {'Zalika': 'friend', 'John': 'partner'}}, 'Zalika': {'age': 28, 'job': 'artist', 'relations': {'Jill': 'friend'}}, 'John': {'age': 27, 'job': 'writer', 'relations': {'Jill': 'partner'}}, 'Nash': {'age': 34, 'job': 'chef', 'relations': {'John': 'cousin', 'Zalika': 'landlord'}}}\n"
     ]
    }
   ],
   "source": [
    "import yaml\n",
    "with open('myfile.yaml') as yaml_file:\n",
    "    my_data=yaml.safe_load(yaml_file)\n",
    "print(my_data)"
   ]
  },
  {
   "cell_type": "code",
   "execution_count": 20,
   "id": "9c14948f",
   "metadata": {},
   "outputs": [
    {
     "name": "stdout",
     "output_type": "stream",
     "text": [
      "Jill:\n",
      "  age: 26\n",
      "  job: biologist\n",
      "  relations:\n",
      "    John: partner\n",
      "    Zalika: friend\n",
      "John:\n",
      "  age: 27\n",
      "  job: writer\n",
      "  relations:\n",
      "    Jill: partner\n",
      "Nash:\n",
      "  age: 34\n",
      "  job: chef\n",
      "  relations:\n",
      "    John: cousin\n",
      "    Zalika: landlord\n",
      "Zalika:\n",
      "  age: 28\n",
      "  job: artist\n",
      "  relations:\n",
      "    Jill: friend\n",
      "\n"
     ]
    }
   ],
   "source": [
    "print(yaml.safe_dump(my_data))"
   ]
  },
  {
   "cell_type": "code",
   "execution_count": null,
   "id": "727f55c2",
   "metadata": {},
   "outputs": [],
   "source": []
  }
 ],
 "metadata": {
  "kernelspec": {
   "display_name": "Python 3 (ipykernel)",
   "language": "python",
   "name": "python3"
  },
  "language_info": {
   "codemirror_mode": {
    "name": "ipython",
    "version": 3
   },
   "file_extension": ".py",
   "mimetype": "text/x-python",
   "name": "python",
   "nbconvert_exporter": "python",
   "pygments_lexer": "ipython3",
   "version": "3.9.12"
  }
 },
 "nbformat": 4,
 "nbformat_minor": 5
}
